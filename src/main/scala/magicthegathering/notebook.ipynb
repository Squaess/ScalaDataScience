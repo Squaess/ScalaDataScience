{
 "cells": [
  {
   "cell_type": "markdown",
   "metadata": {},
   "source": [
    "# Trying out almond kernel for scala"
   ]
  },
  {
   "cell_type": "code",
   "execution_count": 8,
   "metadata": {},
   "outputs": [
    {
     "data": {
      "text/plain": [
       "\u001b[32mimport \u001b[39m\u001b[36m$ivy.$                           \n",
       "\u001b[39m\n",
       "\u001b[32mimport \u001b[39m\u001b[36m$ivy.$                          \u001b[39m"
      ]
     },
     "execution_count": 8,
     "metadata": {},
     "output_type": "execute_result"
    }
   ],
   "source": [
    "import $ivy.`com.lihaoyi::upickle:0.7.5`\n",
    "import $ivy.`com.lihaoyi::os-lib:0.3.0`"
   ]
  },
  {
   "cell_type": "markdown",
   "metadata": {},
   "source": [
    "## Reading the data"
   ]
  },
  {
   "cell_type": "code",
   "execution_count": 24,
   "metadata": {},
   "outputs": [
    {
     "data": {
      "text/plain": [
       "\u001b[36mresource_root_path\u001b[39m: \u001b[32mos\u001b[39m.\u001b[32mPath\u001b[39m = /home/jovyan/work/src/main/resources/MagicTheGathering"
      ]
     },
     "execution_count": 24,
     "metadata": {},
     "output_type": "execute_result"
    }
   ],
   "source": [
    "val resource_root_path: os.Path = os.root / \"home\"/ \"jovyan\" / \"work\" / \"src\" / \"main\" / \"resources\" / \"MagicTheGathering\""
   ]
  },
  {
   "cell_type": "code",
   "execution_count": 29,
   "metadata": {},
   "outputs": [
    {
     "name": "stdout",
     "output_type": "stream",
     "text": [
      "(\"Ach! Hans, Run!\",{\"colorIdentity\":[\"G\",\"R\"],\"colors\":[\"G\",\"R\"],\"convertedManaCost\":6,\"foreignData\":[],\"layout\":\"normal\",\"legalities\":{},\"manaCost\":\"{2}{R}{R}{G}{G}\",\"name\":\"\\\"Ach! Hans, Run!\\\"\",\"printings\":[\"UNH\"],\"purchaseUrls\":{\"cardmarket\":\"https://mtgjson.com/links/6227e6c981cce27c\",\"tcgplayer\":\"https://mtgjson.com/links/85b366724beadefd\"},\"rulings\":[],\"scryfallOracleId\":\"a2c5ee76-6084-413c-bb70-45490d818374\",\"subtypes\":[],\"supertypes\":[],\"text\":\"At the beginning of your upkeep, you may say \\\"Ach Hans, run It's the . . .\\\" and the name of a creature card. If you do, search your library for a card with that name, put it onto the battlefield, then shuffle your library. That creature gains haste. Exile it at the beginning of the next end step.\",\"type\":\"Enchantment\",\"types\":[\"Enchantment\"],\"uuid\":\"8f9a35d5-a3a2-556b-88da-6686da3aaa34\"})\n",
      "(000031ff-f095-52c5-98a1-35bdb5e18a5b,{\"prices\":{\"mtgo\":{},\"mtgoFoil\":{},\"paper\":{},\"paperFoil\":{}}})\n"
     ]
    },
    {
     "data": {
      "text/plain": [
       "\u001b[36mcards\u001b[39m: \u001b[32mcollection\u001b[39m.\u001b[32mmutable\u001b[39m.\u001b[32mLinkedHashMap\u001b[39m[\u001b[32mString\u001b[39m, \u001b[32mujson\u001b[39m.\u001b[32mValue\u001b[39m] = \u001b[33mMap\u001b[39m(\n",
       "  \u001b[32m\"\\\"Ach! Hans, Run!\\\"\"\u001b[39m -> \u001b[33mObj\u001b[39m(\n",
       "...\n",
       "\u001b[36mprices\u001b[39m: \u001b[32mcollection\u001b[39m.\u001b[32mmutable\u001b[39m.\u001b[32mLinkedHashMap\u001b[39m[\u001b[32mString\u001b[39m, \u001b[32mujson\u001b[39m.\u001b[32mValue\u001b[39m] = \u001b[33mMap\u001b[39m(\n",
       "  \u001b[32m\"000031ff-f095-52c5-98a1-35bdb5e18a5b\"\u001b[39m -> \u001b[33mObj\u001b[39m(\n",
       "..."
      ]
     },
     "execution_count": 29,
     "metadata": {},
     "output_type": "execute_result"
    }
   ],
   "source": [
    "val cards = ujson.read(os.read(resource_root_path / \"AllCards.json\")).obj\n",
    "val prices = ujson.read(os.read(resource_root_path / \"AllPrices.json\")).obj\n",
    "println(cards.head)\n",
    "println(prices.head)"
   ]
  },
  {
   "cell_type": "code",
   "execution_count": 13,
   "metadata": {},
   "outputs": [
    {
     "data": {
      "text/plain": [
       "\u001b[36mdistributionOfCCM\u001b[39m: \u001b[32mMap\u001b[39m[\u001b[32mInt\u001b[39m, \u001b[32mInt\u001b[39m] = \u001b[33mMap\u001b[39m(\n",
       "  \u001b[32m0\u001b[39m -> \u001b[32m1149\u001b[39m,\n",
       "..."
      ]
     },
     "execution_count": 13,
     "metadata": {},
     "output_type": "execute_result"
    }
   ],
   "source": [
    "val distributionOfCCM = cards.values\n",
    "    .map(card => card(\"convertedManaCost\").num.toInt)\n",
    "    .groupBy(x => x)\n",
    "    .mapValues(_.size)"
   ]
  },
  {
   "cell_type": "code",
   "execution_count": 15,
   "metadata": {},
   "outputs": [
    {
     "name": "stdout",
     "output_type": "stream",
     "text": [
      "(Composite,9)\n",
      "(Land,663)\n",
      "(Non Land,477)\n"
     ]
    },
    {
     "data": {
      "text/plain": [
       "\u001b[36mzeroCCM\u001b[39m: \u001b[32mIterable\u001b[39m[\u001b[32mujson\u001b[39m.\u001b[32mValue\u001b[39m] = \u001b[33mList\u001b[39m(\n",
       "  \u001b[33mObj\u001b[39m(\n",
       "...\n",
       "\u001b[36mtypeZeroCCM\u001b[39m: \u001b[32mMap\u001b[39m[\u001b[32mString\u001b[39m, \u001b[32mInt\u001b[39m] = \u001b[33mMap\u001b[39m(\n",
       "  \u001b[32m\"Composite\"\u001b[39m -> \u001b[32m9\u001b[39m,\n",
       "..."
      ]
     },
     "execution_count": 15,
     "metadata": {},
     "output_type": "execute_result"
    }
   ],
   "source": [
    "val zeroCCM = cards.values.filter(card => card(\"convertedManaCost\").num.toInt == 0)\n",
    "val typeZeroCCM = zeroCCM\n",
    "    .map(card => card(\"types\").arr.toList.map(_.str))\n",
    "    .groupBy(types => (types.contains(\"Land\"), types.size) match {\n",
    "        case (true, 1) => \"Land\"\n",
    "        case (true, _) => \"Composite\"\n",
    "        case (false, _) => \"Non Land\"\n",
    "    })\n",
    "    .mapValues(_.size)\n",
    "typeZeroCCM.take(5).foreach(println)"
   ]
  },
  {
   "cell_type": "code",
   "execution_count": 16,
   "metadata": {},
   "outputs": [
    {
     "data": {
      "text/plain": [
       "\u001b[32mimport \u001b[39m\u001b[36mscala.util.Try\u001b[39m"
      ]
     },
     "execution_count": 16,
     "metadata": {},
     "output_type": "execute_result"
    }
   ],
   "source": [
    "import scala.util.Try"
   ]
  },
  {
   "cell_type": "code",
   "execution_count": 17,
   "metadata": {},
   "outputs": [
    {
     "data": {
      "text/plain": [
       "defined \u001b[32mclass\u001b[39m \u001b[36mCCMForceToughness\u001b[39m\n",
       "\u001b[36mstatsVersusCCM\u001b[39m: \u001b[32mList\u001b[39m[(\u001b[32mInt\u001b[39m, \u001b[32mInt\u001b[39m)] = \u001b[33mList\u001b[39m(\n",
       "  (\u001b[32m3\u001b[39m, \u001b[32m5\u001b[39m),\n",
       "..."
      ]
     },
     "execution_count": 17,
     "metadata": {},
     "output_type": "execute_result"
    }
   ],
   "source": [
    "case class CCMForceToughness(ccm: Int, power: Int, toughness: Int)\n",
    "val statsVersusCCM = cards.values\n",
    "    .filter(_(\"types\").arr.toList.map(_.str).contains(\"Creature\"))\n",
    "    .filter(c => Try(c(\"text\").str).isFailure)\n",
    "    .map(v => CCMForceToughness(\n",
    "        Try(v(\"convertedManaCost\").num.toInt).getOrElse(-1),\n",
    "        Try(v(\"power\").str.toInt).getOrElse(-1),\n",
    "        Try(v(\"toughness\").str.toInt).getOrElse(-1)\n",
    "    ))\n",
    "    .filter(v => v.power >= 0 && v.toughness >= 0)\n",
    "    .map {case CCMForceToughness(ccm, power, toughness) => ccm -> (power+toughness)}\n",
    "    .filter {case (ccm, stats) => ccm < 30 && stats < 100}\n",
    "    .toList\n",
    "\n"
   ]
  },
  {
   "cell_type": "code",
   "execution_count": 61,
   "metadata": {},
   "outputs": [
    {
     "data": {
      "text/plain": [
       "defined \u001b[32mclass\u001b[39m \u001b[36mPrices\u001b[39m\n",
       "\u001b[36mformattedPrices\u001b[39m: \u001b[32mcollection\u001b[39m.\u001b[32mmutable\u001b[39m.\u001b[32mLinkedHashMap\u001b[39m[\u001b[32mString\u001b[39m, \u001b[32mPrice\u001b[39m] = \u001b[33mMap\u001b[39m(\n",
       "  \u001b[32m\"000031ff-f095-52c5-98a1-35bdb5e18a5b\"\u001b[39m -> \u001b[33mPrice\u001b[39m(\u001b[32m0.0\u001b[39m, \u001b[32m0.0\u001b[39m, \u001b[32m0.0\u001b[39m, \u001b[32m0.0\u001b[39m),\n",
       "  \u001b[32m\"0001fc69-3a61-51e3-aa17-19abb29803f2\"\u001b[39m -> \u001b[33mPrice\u001b[39m(\u001b[32m0.0\u001b[39m, \u001b[32m0.0\u001b[39m, \u001b[32m0.0\u001b[39m, \u001b[32m0.0\u001b[39m),\n",
       "  \u001b[32m\"00028782-6ec2-54fe-8633-2c906d8f1076\"\u001b[39m -> \u001b[33mPrice\u001b[39m(\u001b[32m0.0\u001b[39m, \u001b[32m0.0\u001b[39m, \u001b[32m0.15\u001b[39m, \u001b[32m0.0\u001b[39m),\n",
       "...\n",
       "\u001b[36mfilteredPrices\u001b[39m: \u001b[32mcollection\u001b[39m.\u001b[32mmutable\u001b[39m.\u001b[32mLinkedHashMap\u001b[39m[\u001b[32mString\u001b[39m, \u001b[32mPrice\u001b[39m] = \u001b[33mMap\u001b[39m(\n",
       "  \u001b[32m\"00028782-6ec2-54fe-8633-2c906d8f1076\"\u001b[39m -> \u001b[33mPrice\u001b[39m(\u001b[32m0.0\u001b[39m, \u001b[32m0.0\u001b[39m, \u001b[32m0.15\u001b[39m, \u001b[32m0.0\u001b[39m),\n",
       "  \u001b[32m\"00040b50-3b84-5cea-b663-70038b87fa08\"\u001b[39m -> \u001b[33mPrice\u001b[39m(\u001b[32m0.01\u001b[39m, \u001b[32m0.02\u001b[39m, \u001b[32m0.16\u001b[39m, \u001b[32m0.45\u001b[39m),\n",
       "  \u001b[32m\"0005e7e7-fe15-5acb-89aa-adacf0481952\"\u001b[39m -> \u001b[33mPrice\u001b[39m(\u001b[32m0.01\u001b[39m, \u001b[32m0.01\u001b[39m, \u001b[32m0.12\u001b[39m, \u001b[32m0.78\u001b[39m),\n",
       "..."
      ]
     },
     "execution_count": 61,
     "metadata": {},
     "output_type": "execute_result"
    }
   ],
   "source": [
    "case class Prices(mtgo: Double, mtgoFoil: Double, paper: Double, paperFoil: Double)\n",
    "val formattedPrices = prices.map({\n",
    "    case (uuid, prices) => (uuid, Price(\n",
    "        Try(prices(\"prices\")(\"mtgo\").obj.values.map(_.num.toDouble).max).getOrElse(0),\n",
    "        Try(prices(\"prices\")(\"mtgoFoil\").obj.values.map(_.num.toDouble).max).getOrElse(0),\n",
    "        Try(prices(\"prices\")(\"paper\").obj.values.map(_.num.toDouble).max).getOrElse(0),\n",
    "        Try(prices(\"prices\")(\"paperFoil\").obj.values.map(_.num.toDouble).max).getOrElse(0),\n",
    "    ))})\n",
    "val filteredPrices = formattedPrices.filter({case (a,p) => p.mtgo != 0.0 || p.mtgoFoil != 0.0 || p.paper != 0.0 || p.paperFoil != 0.0})"
   ]
  },
  {
   "cell_type": "code",
   "execution_count": 62,
   "metadata": {},
   "outputs": [
    {
     "data": {
      "text/plain": [
       "\u001b[36mres61\u001b[39m: \u001b[32mInt\u001b[39m = \u001b[32m43193\u001b[39m"
      ]
     },
     "execution_count": 62,
     "metadata": {},
     "output_type": "execute_result"
    }
   ],
   "source": [
    "filteredPrices.size"
   ]
  },
  {
   "cell_type": "code",
   "execution_count": 63,
   "metadata": {},
   "outputs": [
    {
     "data": {
      "text/plain": [
       "\u001b[36mres62\u001b[39m: (\u001b[32mString\u001b[39m, \u001b[32mPrice\u001b[39m) = (\n",
       "  \u001b[32m\"00028782-6ec2-54fe-8633-2c906d8f1076\"\u001b[39m,\n",
       "  \u001b[33mPrice\u001b[39m(\u001b[32m0.0\u001b[39m, \u001b[32m0.0\u001b[39m, \u001b[32m0.15\u001b[39m, \u001b[32m0.0\u001b[39m)\n",
       ")"
      ]
     },
     "execution_count": 63,
     "metadata": {},
     "output_type": "execute_result"
    }
   ],
   "source": [
    "filteredPrices.head"
   ]
  },
  {
   "cell_type": "code",
   "execution_count": null,
   "metadata": {},
   "outputs": [],
   "source": []
  },
  {
   "cell_type": "markdown",
   "metadata": {},
   "source": [
    "### Plotly in scala"
   ]
  },
  {
   "cell_type": "code",
   "execution_count": 55,
   "metadata": {},
   "outputs": [
    {
     "data": {
      "text/plain": [
       "\u001b[32mimport \u001b[39m\u001b[36m$ivy.$                                      \n",
       "\n",
       "\u001b[39m\n",
       "\u001b[32mimport \u001b[39m\u001b[36mplotly._\n",
       "\u001b[39m\n",
       "\u001b[32mimport \u001b[39m\u001b[36mplotly.element._\n",
       "\u001b[39m\n",
       "\u001b[32mimport \u001b[39m\u001b[36mplotly.layout._\n",
       "\u001b[39m\n",
       "\u001b[32mimport \u001b[39m\u001b[36mplotly.Almond._\n",
       "\n",
       "// if you want to have the plots available without an internet connection:\n",
       "// init(offline=true)\n",
       "\n",
       "// restrict the output height to avoid scrolling in output cells\n",
       "\u001b[39m"
      ]
     },
     "execution_count": 55,
     "metadata": {},
     "output_type": "execute_result"
    }
   ],
   "source": [
    "import $ivy.`org.plotly-scala::plotly-almond:0.8.0`\n",
    "\n",
    "import plotly._\n",
    "import plotly.element._\n",
    "import plotly.layout._\n",
    "import plotly.Almond._\n",
    "\n",
    "// if you want to have the plots available without an internet connection:\n",
    "// init(offline=true)\n",
    "\n",
    "// restrict the output height to avoid scrolling in output cells\n",
    "repl.pprinter() = repl.pprinter().copy(defaultHeight = 5)"
   ]
  },
  {
   "cell_type": "code",
   "execution_count": 22,
   "metadata": {},
   "outputs": [
    {
     "data": {
      "application/vnd.plotly.v1+json": {
       "config": {},
       "data": [
        {
         "type": "bar",
         "x": [
          "Composite",
          "Land",
          "Non Land"
         ],
         "y": [
          9,
          663,
          477
         ]
        }
       ],
       "layout": {
        "autosize": true,
        "title": {
         "text": "CCM frequency"
        },
        "xaxis": {
         "autorange": true,
         "range": [
          -0.5,
          2.5
         ],
         "type": "category"
        },
        "yaxis": {
         "autorange": true,
         "range": [
          0,
          697.8947368421053
         ],
         "type": "linear"
        }
       }
      },
      "image/png": "[encoded data removed]",
      "text/html": [
       "<div class=\"chart\" id=\"plot-dab68f7e-08a9-46d3-947c-b76aef56795c\"></div>\n",
       "<script>require(['plotly'], function(Plotly) {\n",
       "  (function () {\n",
       "  var data0 = {\"x\":[\"Composite\",\"Land\",\"Non Land\"],\"y\":[9.0,663.0,477.0],\"type\":\"bar\"};\n",
       "\n",
       "  var data = [data0];\n",
       "  var layout = {\"title\":\"CCM frequency\"};\n",
       " var config = {};\n",
       "\n",
       "  Plotly.plot('plot-dab68f7e-08a9-46d3-947c-b76aef56795c', data, layout, config);\n",
       "})();\n",
       "});\n",
       "      </script>\n",
       "           "
      ]
     },
     "metadata": {},
     "output_type": "display_data"
    },
    {
     "data": {
      "text/plain": [
       "\u001b[36mx\u001b[39m: \u001b[32mList\u001b[39m[\u001b[32mString\u001b[39m] = \u001b[33mList\u001b[39m(\u001b[32m\"Composite\"\u001b[39m, \u001b[32m\"Land\"\u001b[39m, \u001b[32m\"Non Land\"\u001b[39m)\n",
       "\u001b[36my\u001b[39m: \u001b[32mList\u001b[39m[\u001b[32mInt\u001b[39m] = \u001b[33mList\u001b[39m(\u001b[32m9\u001b[39m, \u001b[32m663\u001b[39m, \u001b[32m477\u001b[39m)\n",
       "\u001b[36mres21_1\u001b[39m: \u001b[32mString\u001b[39m = \u001b[32m\"plot-dab68f7e-08a9-46d3-947c-b76aef56795c\"\u001b[39m"
      ]
     },
     "execution_count": 22,
     "metadata": {},
     "output_type": "execute_result"
    }
   ],
   "source": [
    "val (x, y) = typeZeroCCM.toList.unzip\n",
    "Bar(x, y).plot(title=\"CCM frequency\")"
   ]
  },
  {
   "cell_type": "code",
   "execution_count": 7,
   "metadata": {},
   "outputs": [
    {
     "data": {
      "application/vnd.plotly.v1+json": {
       "config": {},
       "data": [
        {
         "type": "bar",
         "x": [
          0,
          1,
          2,
          3,
          4,
          5,
          6,
          7,
          8,
          9,
          10,
          11,
          12,
          13,
          14,
          15,
          16,
          1000000
         ],
         "y": [
          1149,
          2174,
          4074,
          4640,
          3785,
          2390,
          1345,
          565,
          213,
          75,
          35,
          13,
          6,
          6,
          1,
          5,
          1,
          1
         ]
        }
       ],
       "layout": {
        "autosize": true,
        "xaxis": {
         "autorange": true,
         "range": [
          -0.5,
          17.5
         ],
         "type": "category"
        },
        "yaxis": {
         "autorange": true,
         "range": [
          0,
          4884.210526315789
         ],
         "type": "linear"
        }
       }
      },
      "image/png": "[encoded data removed]",
      "text/html": [
       "<div class=\"chart\" id=\"plot-8f7d8073-d8b8-4515-be39-2d5613a7861a\"></div>\n",
       "<script>require(['plotly'], function(Plotly) {\n",
       "  (function () {\n",
       "  var data0 = {\"x\":[0.0,1.0,2.0,3.0,4.0,5.0,6.0,7.0,8.0,9.0,10.0,11.0,12.0,13.0,14.0,15.0,16.0,1000000.0],\"y\":[1149.0,2174.0,4074.0,4640.0,3785.0,2390.0,1345.0,565.0,213.0,75.0,35.0,13.0,6.0,6.0,1.0,5.0,1.0,1.0],\"type\":\"bar\"};\n",
       "\n",
       "  var data = [data0];\n",
       "  var layout = {\"xaxis\":{\"type\":\"category\"}};\n",
       " var config = {};\n",
       "\n",
       "  Plotly.plot('plot-8f7d8073-d8b8-4515-be39-2d5613a7861a', data, layout, config);\n",
       "})();\n",
       "});\n",
       "      </script>\n",
       "           "
      ]
     },
     "metadata": {},
     "output_type": "display_data"
    },
    {
     "data": {
      "text/plain": [
       "\u001b[36mx\u001b[39m: \u001b[32mList\u001b[39m[\u001b[32mInt\u001b[39m] = \u001b[33mList\u001b[39m(\n",
       "  \u001b[32m0\u001b[39m,\n",
       "...\n",
       "\u001b[36my\u001b[39m: \u001b[32mList\u001b[39m[\u001b[32mInt\u001b[39m] = \u001b[33mList\u001b[39m(\n",
       "  \u001b[32m1149\u001b[39m,\n",
       "...\n",
       "\u001b[36mlayout\u001b[39m: \u001b[32mLayout\u001b[39m = \u001b[33mLayout\u001b[39m(\n",
       "  \u001b[32mNone\u001b[39m,\n",
       "...\n",
       "\u001b[36mres6_2\u001b[39m: \u001b[32mString\u001b[39m = \u001b[32m\"plot-8f7d8073-d8b8-4515-be39-2d5613a7861a\"\u001b[39m"
      ]
     },
     "execution_count": 7,
     "metadata": {},
     "output_type": "execute_result"
    }
   ],
   "source": [
    "val (x, y) = distributionOfCCM.toList.sorted.unzip // Bar constructor needs two lists\n",
    "val layout = Layout(xaxis = Axis(`type` = AxisType.Category)) // category axis because of the weird outliers\n",
    "plot(List(Bar(x, y)), layout = layout)"
   ]
  },
  {
   "cell_type": "code",
   "execution_count": 23,
   "metadata": {},
   "outputs": [
    {
     "data": {
      "application/vnd.plotly.v1+json": {
       "config": {},
       "data": [
        {
         "marker": {
          "size": [
           6,
           3,
           1,
           2,
           1,
           8,
           1,
           9,
           28,
           1,
           19,
           1,
           1,
           1,
           1,
           9,
           14,
           1,
           1,
           8,
           37,
           1,
           26,
           2,
           3,
           1,
           6,
           3,
           6,
           1,
           2,
           1,
           3,
           11,
           5,
           41,
           3,
           19,
           2,
           1,
           25,
           9,
           1,
           1
          ]
         },
         "mode": "markers",
         "type": "scatter",
         "x": [
          2,
          7,
          4,
          3,
          0,
          6,
          6,
          3,
          4,
          8,
          5,
          7,
          0,
          6,
          5,
          5,
          3,
          8,
          6,
          6,
          3,
          7,
          4,
          6,
          7,
          4,
          1,
          2,
          5,
          5,
          7,
          5,
          7,
          1,
          4,
          2,
          0,
          5,
          6,
          1,
          2,
          1,
          3,
          5
         ],
         "y": [
          5,
          12,
          12,
          9,
          2,
          10,
          14,
          4,
          7,
          18,
          9,
          16,
          3,
          9,
          20,
          10,
          6,
          13,
          8,
          11,
          5,
          14,
          6,
          13,
          13,
          5,
          4,
          6,
          7,
          12,
          11,
          16,
          10,
          3,
          8,
          4,
          1,
          8,
          12,
          7,
          3,
          2,
          8,
          6
         ]
        }
       ],
       "layout": {
        "autosize": true,
        "xaxis": {
         "autorange": true,
         "range": [
          -0.512506380806534,
          8.512506380806535
         ],
         "type": "linear"
        },
        "yaxis": {
         "autorange": true,
         "range": [
          -0.32278481012658244,
          21.32278481012658
         ],
         "type": "linear"
        }
       }
      },
      "image/png": "[encoded data removed]",
      "text/html": [
       "<div class=\"chart\" id=\"plot-c2c89d18-f912-4dcb-a01f-accee80784ac\"></div>\n",
       "<script>require(['plotly'], function(Plotly) {\n",
       "  (function () {\n",
       "  var data0 = {\"x\":[2.0,7.0,4.0,3.0,0.0,6.0,6.0,3.0,4.0,8.0,5.0,7.0,0.0,6.0,5.0,5.0,3.0,8.0,6.0,6.0,3.0,7.0,4.0,6.0,7.0,4.0,1.0,2.0,5.0,5.0,7.0,5.0,7.0,1.0,4.0,2.0,0.0,5.0,6.0,1.0,2.0,1.0,3.0,5.0],\"y\":[5.0,12.0,12.0,9.0,2.0,10.0,14.0,4.0,7.0,18.0,9.0,16.0,3.0,9.0,20.0,10.0,6.0,13.0,8.0,11.0,5.0,14.0,6.0,13.0,13.0,5.0,4.0,6.0,7.0,12.0,11.0,16.0,10.0,3.0,8.0,4.0,1.0,8.0,12.0,7.0,3.0,2.0,8.0,6.0],\"marker\":{\"size\":[6,3,1,2,1,8,1,9,28,1,19,1,1,1,1,9,14,1,1,8,37,1,26,2,3,1,6,3,6,1,2,1,3,11,5,41,3,19,2,1,25,9,1,1]},\"mode\":\"markers\",\"type\":\"scatter\"};\n",
       "\n",
       "  var data = [data0];\n",
       "  var layout = {};\n",
       " var config = {};\n",
       "\n",
       "  Plotly.plot('plot-c2c89d18-f912-4dcb-a01f-accee80784ac', data, layout, config);\n",
       "})();\n",
       "});\n",
       "      </script>\n",
       "           "
      ]
     },
     "metadata": {},
     "output_type": "display_data"
    },
    {
     "data": {
      "text/plain": [
       "\u001b[36mcouplesToSize\u001b[39m: \u001b[32mMap\u001b[39m[(\u001b[32mInt\u001b[39m, \u001b[32mInt\u001b[39m), \u001b[32mInt\u001b[39m] = \u001b[33mMap\u001b[39m(\n",
       "  (\u001b[32m2\u001b[39m, \u001b[32m5\u001b[39m) -> \u001b[32m6\u001b[39m,\n",
       "...\n",
       "\u001b[36mx\u001b[39m: \u001b[32mList\u001b[39m[\u001b[32mInt\u001b[39m] = \u001b[33mList\u001b[39m(\n",
       "  \u001b[32m2\u001b[39m,\n",
       "...\n",
       "\u001b[36my\u001b[39m: \u001b[32mList\u001b[39m[\u001b[32mInt\u001b[39m] = \u001b[33mList\u001b[39m(\n",
       "  \u001b[32m5\u001b[39m,\n",
       "...\n",
       "\u001b[36msizes\u001b[39m: \u001b[32mList\u001b[39m[\u001b[32mInt\u001b[39m] = \u001b[33mList\u001b[39m(\n",
       "  \u001b[32m6\u001b[39m,\n",
       "...\n",
       "\u001b[36mres22_3\u001b[39m: \u001b[32mString\u001b[39m = \u001b[32m\"plot-c2c89d18-f912-4dcb-a01f-accee80784ac\"\u001b[39m"
      ]
     },
     "execution_count": 23,
     "metadata": {},
     "output_type": "execute_result"
    }
   ],
   "source": [
    "val couplesToSize = statsVersusCCM\n",
    "    .groupBy(x => x).mapValues(_.size)\n",
    "    \n",
    "val (x, y) = couplesToSize.keys.toList.unzip\n",
    "val sizes = couplesToSize.values.toList\n",
    "Scatter(\n",
    "    x, y, \n",
    "    mode = ScatterMode(ScatterMode.Markers),\n",
    "    marker = Marker(sizes)\n",
    ").plot()"
   ]
  },
  {
   "cell_type": "code",
   "execution_count": null,
   "metadata": {},
   "outputs": [],
   "source": []
  }
 ],
 "metadata": {
  "kernelspec": {
   "display_name": "Scala 2.12",
   "language": "scala",
   "name": "scala212"
  },
  "language_info": {
   "codemirror_mode": "text/x-scala",
   "file_extension": ".sc",
   "mimetype": "text/x-scala",
   "name": "scala",
   "nbconvert_exporter": "script",
   "version": "2.12.12"
  }
 },
 "nbformat": 4,
 "nbformat_minor": 4
}
